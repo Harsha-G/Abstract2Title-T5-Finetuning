{
 "cells": [
  {
   "cell_type": "markdown",
   "id": "diverse-application",
   "metadata": {},
   "source": [
    "# T5 Model FineTuning #\n",
    "\n",
    "In this notebook, I will be performing finetuning on the T5 Model. In brief, the T5 model is a pre-trained deep learning model that is based on the transformer-architecture. The T5's primary focus of application is in the field of Text-To-Text transformations i.e. Question-Answering, Translation, and Summarization. \n",
    "\n",
    "Our main task in this notebook will be to create a fine-tuned model that will take in an abstract from a research article, and generate a title based on the input information. \n",
    "\n",
    "We will be using a dataset found on kaggle from this link: https://www.kaggle.com/vetrirah/janatahack-independence-day-2020-ml-hackathon?select=train.csv\n",
    "\n",
    "Quoted from the kaggle description:\n",
    "\n",
    "**Topic Modeling for Research Articles\n",
    "Researchers have access to large online archives of scientific articles. As a consequence, finding relevant articles has become more difficult. Tagging or topic modelling provides a way to give token of identification to research articles which facilitates recommendation and search process. Given the abstract and title for a set of research articles, predict the topics for each article included in the test set.**\n",
    "\n",
    "Even though the purpose of the dataset is to predict the topics of the articles, we will only be using it for the primary purpose of fine-tuning our pretrained T5 model to generate a title for each input abstract text."
   ]
  },
  {
   "cell_type": "code",
   "execution_count": 1,
   "id": "incredible-nurse",
   "metadata": {},
   "outputs": [],
   "source": [
    "train_data_loc = \"../data/Abstract-Research_Dataset/train.csv\"\n",
    "test_data_loc = \"../data/Abstract-Research_Dataset/test.csv\""
   ]
  },
  {
   "cell_type": "code",
   "execution_count": 2,
   "id": "simple-alarm",
   "metadata": {},
   "outputs": [],
   "source": [
    "import pandas as pd\n",
    "import numpy as np\n",
    "import matplotlib as plt\n",
    "import re\n",
    "from transformers import T5Tokenizer, T5Model, T5ForConditionalGeneration\n",
    "from torch.utils.data import random_split, RandomSampler\n",
    "from nltk.translate.bleu_score import sentence_bleu\n",
    "import seaborn as sns\n",
    "from torch.utils.data import Dataset, DataLoader\n",
    "import torch"
   ]
  },
  {
   "cell_type": "code",
   "execution_count": 3,
   "id": "martial-index",
   "metadata": {},
   "outputs": [],
   "source": [
    "# Setting up the device for GPU usage\n",
    "\n",
    "from torch import cuda\n",
    "device = 'cuda' if cuda.is_available() else 'cpu'"
   ]
  },
  {
   "cell_type": "code",
   "execution_count": 4,
   "id": "amended-forum",
   "metadata": {},
   "outputs": [],
   "source": [
    "train_df = pd.read_csv(train_data_loc, encoding='utf-8')\n",
    "test_df = pd.read_csv(test_data_loc, encoding='utf-8')"
   ]
  },
  {
   "cell_type": "code",
   "execution_count": 5,
   "id": "promotional-drawing",
   "metadata": {},
   "outputs": [
    {
     "data": {
      "text/html": [
       "<div>\n",
       "<style scoped>\n",
       "    .dataframe tbody tr th:only-of-type {\n",
       "        vertical-align: middle;\n",
       "    }\n",
       "\n",
       "    .dataframe tbody tr th {\n",
       "        vertical-align: top;\n",
       "    }\n",
       "\n",
       "    .dataframe thead th {\n",
       "        text-align: right;\n",
       "    }\n",
       "</style>\n",
       "<table border=\"1\" class=\"dataframe\">\n",
       "  <thead>\n",
       "    <tr style=\"text-align: right;\">\n",
       "      <th></th>\n",
       "      <th>ID</th>\n",
       "      <th>TITLE</th>\n",
       "      <th>ABSTRACT</th>\n",
       "      <th>Computer Science</th>\n",
       "      <th>Physics</th>\n",
       "      <th>Mathematics</th>\n",
       "      <th>Statistics</th>\n",
       "      <th>Quantitative Biology</th>\n",
       "      <th>Quantitative Finance</th>\n",
       "    </tr>\n",
       "  </thead>\n",
       "  <tbody>\n",
       "    <tr>\n",
       "      <th>0</th>\n",
       "      <td>1</td>\n",
       "      <td>Reconstructing Subject-Specific Effect Maps</td>\n",
       "      <td>Predictive models allow subject-specific inf...</td>\n",
       "      <td>1</td>\n",
       "      <td>0</td>\n",
       "      <td>0</td>\n",
       "      <td>0</td>\n",
       "      <td>0</td>\n",
       "      <td>0</td>\n",
       "    </tr>\n",
       "    <tr>\n",
       "      <th>1</th>\n",
       "      <td>2</td>\n",
       "      <td>Rotation Invariance Neural Network</td>\n",
       "      <td>Rotation invariance and translation invarian...</td>\n",
       "      <td>1</td>\n",
       "      <td>0</td>\n",
       "      <td>0</td>\n",
       "      <td>0</td>\n",
       "      <td>0</td>\n",
       "      <td>0</td>\n",
       "    </tr>\n",
       "    <tr>\n",
       "      <th>2</th>\n",
       "      <td>3</td>\n",
       "      <td>Spherical polyharmonics and Poisson kernels fo...</td>\n",
       "      <td>We introduce and develop the notion of spher...</td>\n",
       "      <td>0</td>\n",
       "      <td>0</td>\n",
       "      <td>1</td>\n",
       "      <td>0</td>\n",
       "      <td>0</td>\n",
       "      <td>0</td>\n",
       "    </tr>\n",
       "    <tr>\n",
       "      <th>3</th>\n",
       "      <td>4</td>\n",
       "      <td>A finite element approximation for the stochas...</td>\n",
       "      <td>The stochastic Landau--Lifshitz--Gilbert (LL...</td>\n",
       "      <td>0</td>\n",
       "      <td>0</td>\n",
       "      <td>1</td>\n",
       "      <td>0</td>\n",
       "      <td>0</td>\n",
       "      <td>0</td>\n",
       "    </tr>\n",
       "    <tr>\n",
       "      <th>4</th>\n",
       "      <td>5</td>\n",
       "      <td>Comparative study of Discrete Wavelet Transfor...</td>\n",
       "      <td>Fourier-transform infra-red (FTIR) spectra o...</td>\n",
       "      <td>1</td>\n",
       "      <td>0</td>\n",
       "      <td>0</td>\n",
       "      <td>1</td>\n",
       "      <td>0</td>\n",
       "      <td>0</td>\n",
       "    </tr>\n",
       "  </tbody>\n",
       "</table>\n",
       "</div>"
      ],
      "text/plain": [
       "   ID                                              TITLE  \\\n",
       "0   1        Reconstructing Subject-Specific Effect Maps   \n",
       "1   2                 Rotation Invariance Neural Network   \n",
       "2   3  Spherical polyharmonics and Poisson kernels fo...   \n",
       "3   4  A finite element approximation for the stochas...   \n",
       "4   5  Comparative study of Discrete Wavelet Transfor...   \n",
       "\n",
       "                                            ABSTRACT  Computer Science  \\\n",
       "0    Predictive models allow subject-specific inf...                 1   \n",
       "1    Rotation invariance and translation invarian...                 1   \n",
       "2    We introduce and develop the notion of spher...                 0   \n",
       "3    The stochastic Landau--Lifshitz--Gilbert (LL...                 0   \n",
       "4    Fourier-transform infra-red (FTIR) spectra o...                 1   \n",
       "\n",
       "   Physics  Mathematics  Statistics  Quantitative Biology  \\\n",
       "0        0            0           0                     0   \n",
       "1        0            0           0                     0   \n",
       "2        0            1           0                     0   \n",
       "3        0            1           0                     0   \n",
       "4        0            0           1                     0   \n",
       "\n",
       "   Quantitative Finance  \n",
       "0                     0  \n",
       "1                     0  \n",
       "2                     0  \n",
       "3                     0  \n",
       "4                     0  "
      ]
     },
     "execution_count": 5,
     "metadata": {},
     "output_type": "execute_result"
    }
   ],
   "source": [
    "train_df.head()"
   ]
  },
  {
   "cell_type": "code",
   "execution_count": 6,
   "id": "neural-pizza",
   "metadata": {},
   "outputs": [
    {
     "data": {
      "text/html": [
       "<div>\n",
       "<style scoped>\n",
       "    .dataframe tbody tr th:only-of-type {\n",
       "        vertical-align: middle;\n",
       "    }\n",
       "\n",
       "    .dataframe tbody tr th {\n",
       "        vertical-align: top;\n",
       "    }\n",
       "\n",
       "    .dataframe thead th {\n",
       "        text-align: right;\n",
       "    }\n",
       "</style>\n",
       "<table border=\"1\" class=\"dataframe\">\n",
       "  <thead>\n",
       "    <tr style=\"text-align: right;\">\n",
       "      <th></th>\n",
       "      <th>ID</th>\n",
       "      <th>TITLE</th>\n",
       "      <th>ABSTRACT</th>\n",
       "    </tr>\n",
       "  </thead>\n",
       "  <tbody>\n",
       "    <tr>\n",
       "      <th>0</th>\n",
       "      <td>20973</td>\n",
       "      <td>Closed-form Marginal Likelihood in Gamma-Poiss...</td>\n",
       "      <td>We present novel understandings of the Gamma...</td>\n",
       "    </tr>\n",
       "    <tr>\n",
       "      <th>1</th>\n",
       "      <td>20974</td>\n",
       "      <td>Laboratory mid-IR spectra of equilibrated and ...</td>\n",
       "      <td>Meteorites contain minerals from Solar Syste...</td>\n",
       "    </tr>\n",
       "    <tr>\n",
       "      <th>2</th>\n",
       "      <td>20975</td>\n",
       "      <td>Case For Static AMSDU Aggregation in WLANs</td>\n",
       "      <td>Frame aggregation is a mechanism by which mu...</td>\n",
       "    </tr>\n",
       "    <tr>\n",
       "      <th>3</th>\n",
       "      <td>20976</td>\n",
       "      <td>The $Gaia$-ESO Survey: the inner disk intermed...</td>\n",
       "      <td>Milky Way open clusters are very diverse in ...</td>\n",
       "    </tr>\n",
       "    <tr>\n",
       "      <th>4</th>\n",
       "      <td>20977</td>\n",
       "      <td>Witness-Functions versus Interpretation-Functi...</td>\n",
       "      <td>Proving that a cryptographic protocol is cor...</td>\n",
       "    </tr>\n",
       "  </tbody>\n",
       "</table>\n",
       "</div>"
      ],
      "text/plain": [
       "      ID                                              TITLE  \\\n",
       "0  20973  Closed-form Marginal Likelihood in Gamma-Poiss...   \n",
       "1  20974  Laboratory mid-IR spectra of equilibrated and ...   \n",
       "2  20975         Case For Static AMSDU Aggregation in WLANs   \n",
       "3  20976  The $Gaia$-ESO Survey: the inner disk intermed...   \n",
       "4  20977  Witness-Functions versus Interpretation-Functi...   \n",
       "\n",
       "                                            ABSTRACT  \n",
       "0    We present novel understandings of the Gamma...  \n",
       "1    Meteorites contain minerals from Solar Syste...  \n",
       "2    Frame aggregation is a mechanism by which mu...  \n",
       "3    Milky Way open clusters are very diverse in ...  \n",
       "4    Proving that a cryptographic protocol is cor...  "
      ]
     },
     "execution_count": 6,
     "metadata": {},
     "output_type": "execute_result"
    }
   ],
   "source": [
    "test_df.head()"
   ]
  },
  {
   "cell_type": "code",
   "execution_count": 7,
   "id": "generous-buffer",
   "metadata": {},
   "outputs": [],
   "source": [
    "# Here we drop the columns that don't pertain to our task at hand\n",
    "\n",
    "train_df.drop(columns=['ID','Computer Science', 'Physics', 'Mathematics',\n",
    "       'Statistics', 'Quantitative Biology', 'Quantitative Finance'], inplace=True)\n",
    "\n",
    "test_df.drop(columns=['ID'], inplace=True)"
   ]
  },
  {
   "cell_type": "markdown",
   "id": "standing-requirement",
   "metadata": {},
   "source": [
    "The first thing I wanted to do was some exploratory data analysis. Primarily finding the distribution of word counts in all of our samples. The reason I do this is that due to memory constraints on my server I may run into an issue of running out of CUDA memory, which would impede my training. "
   ]
  },
  {
   "cell_type": "code",
   "execution_count": 8,
   "id": "corresponding-fleet",
   "metadata": {},
   "outputs": [],
   "source": [
    "# Descr: To display plots and metrics regarding token quantity in given input text\n",
    "# Arguements:\n",
    "# =====================================================================\n",
    "# arr1 - input array 1\n",
    "# arr2 - input array 2\n",
    "# show_distr - whether to show plots of distributions\n",
    "# return_distr - whether to return distribution arrays\n",
    "# =====================================================================\n",
    "\n",
    "def DisplayMaxTokens(arr1, arr2, show_distr = False, return_distr = False):\n",
    "    arr1_maxlen = 0\n",
    "    arr2_maxlen = 0\n",
    "    \n",
    "    seq1_LenArr = []\n",
    "    seq2_LenArr = []\n",
    "    \n",
    "    for seq1, seq2 in zip(arr1, arr2):\n",
    "        seq1_text = len(str(seq1).split())\n",
    "        seq2_text = len(str(seq2).split())\n",
    "    \n",
    "        seq1_LenArr.append(seq1_text) \n",
    "        seq2_LenArr.append(seq2_text)    \n",
    "        \n",
    "        if(seq1_text > arr1_maxlen):\n",
    "            arr1_maxlen = seq1_text\n",
    "        if(seq2_text > arr2_maxlen):\n",
    "            arr2_maxlen = seq2_text\n",
    "            \n",
    "    print(\"Maximum number of tokens in Array1: \", arr1_maxlen)\n",
    "    print(\"Maximum number of tokens in Array2: \", arr2_maxlen)\n",
    "    \n",
    "    if(show_distr == True):\n",
    "        sns.displot(seq1_LenArr);\n",
    "        sns.displot(seq2_LenArr);\n",
    "        \n",
    "    if(return_distr == True):\n",
    "        return seq1_LenArr, seq2_LenArr"
   ]
  },
  {
   "cell_type": "code",
   "execution_count": 9,
   "id": "occupational-assistant",
   "metadata": {},
   "outputs": [
    {
     "name": "stdout",
     "output_type": "stream",
     "text": [
      "Maximum number of tokens in Array1:  40\n",
      "Maximum number of tokens in Array2:  449\n"
     ]
    },
    {
     "data": {
      "image/png": "[encoded data removed]",
      "text/plain": [
       "<Figure size 360x360 with 1 Axes>"
      ]
     },
     "metadata": {
      "needs_background": "light"
     },
     "output_type": "display_data"
    },
    {
     "data": {
      "image/png": "[encoded data removed]",
      "text/plain": [
       "<Figure size 360x360 with 1 Axes>"
      ]
     },
     "metadata": {
      "needs_background": "light"
     },
     "output_type": "display_data"
    }
   ],
   "source": [
    "title_arr = train_df['TITLE']\n",
    "abstract_arr = train_df['ABSTRACT']\n",
    "\n",
    "textlen_Arr, abstractlen_Arr = DisplayMaxTokens(title_arr, abstract_arr, show_distr=True, return_distr = True)"
   ]
  },
  {
   "cell_type": "markdown",
   "id": "modern-deposit",
   "metadata": {},
   "source": [
    "On seeing the above distributions we can see how our word count distribution is. To make sure my machine can handle the memory load I split the dataset such that we only consider the samples where the abstract is less than 200 words. Based on this we split both the training observations and the test observations."
   ]
  },
  {
   "cell_type": "code",
   "execution_count": 10,
   "id": "contained-prisoner",
   "metadata": {},
   "outputs": [],
   "source": [
    "train_df['abs_len'] = abstractlen_Arr\n",
    "\n",
    "train_df = train_df[train_df['abs_len'] <= 200]"
   ]
  },
  {
   "cell_type": "code",
   "execution_count": 11,
   "id": "fallen-necklace",
   "metadata": {},
   "outputs": [
    {
     "name": "stdout",
     "output_type": "stream",
     "text": [
      "Maximum number of tokens in Array1:  38\n",
      "Maximum number of tokens in Array2:  391\n"
     ]
    }
   ],
   "source": [
    "title_arr = test_df['TITLE']\n",
    "abstract_arr = test_df['ABSTRACT']\n",
    "\n",
    "textlen_Arr, abstractlen_Arr = DisplayMaxTokens(title_arr, abstract_arr, show_distr=False, return_distr = True)\n",
    "test_df['abs_len'] = abstractlen_Arr\n",
    "\n",
    "test_df = test_df[test_df['abs_len'] <= 200]"
   ]
  },
  {
   "cell_type": "code",
   "execution_count": 12,
   "id": "incident-zealand",
   "metadata": {},
   "outputs": [
    {
     "data": {
      "text/html": [
       "<div>\n",
       "<style scoped>\n",
       "    .dataframe tbody tr th:only-of-type {\n",
       "        vertical-align: middle;\n",
       "    }\n",
       "\n",
       "    .dataframe tbody tr th {\n",
       "        vertical-align: top;\n",
       "    }\n",
       "\n",
       "    .dataframe thead th {\n",
       "        text-align: right;\n",
       "    }\n",
       "</style>\n",
       "<table border=\"1\" class=\"dataframe\">\n",
       "  <thead>\n",
       "    <tr style=\"text-align: right;\">\n",
       "      <th></th>\n",
       "      <th>TITLE</th>\n",
       "      <th>ABSTRACT</th>\n",
       "      <th>abs_len</th>\n",
       "    </tr>\n",
       "  </thead>\n",
       "  <tbody>\n",
       "    <tr>\n",
       "      <th>1</th>\n",
       "      <td>Rotation Invariance Neural Network</td>\n",
       "      <td>Rotation invariance and translation invarian...</td>\n",
       "      <td>76</td>\n",
       "    </tr>\n",
       "    <tr>\n",
       "      <th>2</th>\n",
       "      <td>Spherical polyharmonics and Poisson kernels fo...</td>\n",
       "      <td>We introduce and develop the notion of spher...</td>\n",
       "      <td>99</td>\n",
       "    </tr>\n",
       "    <tr>\n",
       "      <th>3</th>\n",
       "      <td>A finite element approximation for the stochas...</td>\n",
       "      <td>The stochastic Landau--Lifshitz--Gilbert (LL...</td>\n",
       "      <td>110</td>\n",
       "    </tr>\n",
       "    <tr>\n",
       "      <th>4</th>\n",
       "      <td>Comparative study of Discrete Wavelet Transfor...</td>\n",
       "      <td>Fourier-transform infra-red (FTIR) spectra o...</td>\n",
       "      <td>125</td>\n",
       "    </tr>\n",
       "    <tr>\n",
       "      <th>6</th>\n",
       "      <td>On the rotation period and shape of the hyperb...</td>\n",
       "      <td>We observed the newly discovered hyperbolic ...</td>\n",
       "      <td>105</td>\n",
       "    </tr>\n",
       "  </tbody>\n",
       "</table>\n",
       "</div>"
      ],
      "text/plain": [
       "                                               TITLE  \\\n",
       "1                 Rotation Invariance Neural Network   \n",
       "2  Spherical polyharmonics and Poisson kernels fo...   \n",
       "3  A finite element approximation for the stochas...   \n",
       "4  Comparative study of Discrete Wavelet Transfor...   \n",
       "6  On the rotation period and shape of the hyperb...   \n",
       "\n",
       "                                            ABSTRACT  abs_len  \n",
       "1    Rotation invariance and translation invarian...       76  \n",
       "2    We introduce and develop the notion of spher...       99  \n",
       "3    The stochastic Landau--Lifshitz--Gilbert (LL...      110  \n",
       "4    Fourier-transform infra-red (FTIR) spectra o...      125  \n",
       "6    We observed the newly discovered hyperbolic ...      105  "
      ]
     },
     "execution_count": 12,
     "metadata": {},
     "output_type": "execute_result"
    }
   ],
   "source": [
    "train_df.reset_index()\n",
    "train_df.head()"
   ]
  },
  {
   "cell_type": "code",
   "execution_count": 13,
   "id": "fancy-fifteen",
   "metadata": {},
   "outputs": [
    {
     "data": {
      "text/html": [
       "<div>\n",
       "<style scoped>\n",
       "    .dataframe tbody tr th:only-of-type {\n",
       "        vertical-align: middle;\n",
       "    }\n",
       "\n",
       "    .dataframe tbody tr th {\n",
       "        vertical-align: top;\n",
       "    }\n",
       "\n",
       "    .dataframe thead th {\n",
       "        text-align: right;\n",
       "    }\n",
       "</style>\n",
       "<table border=\"1\" class=\"dataframe\">\n",
       "  <thead>\n",
       "    <tr style=\"text-align: right;\">\n",
       "      <th></th>\n",
       "      <th>TITLE</th>\n",
       "      <th>ABSTRACT</th>\n",
       "      <th>abs_len</th>\n",
       "    </tr>\n",
       "  </thead>\n",
       "  <tbody>\n",
       "    <tr>\n",
       "      <th>0</th>\n",
       "      <td>Closed-form Marginal Likelihood in Gamma-Poiss...</td>\n",
       "      <td>We present novel understandings of the Gamma...</td>\n",
       "      <td>96</td>\n",
       "    </tr>\n",
       "    <tr>\n",
       "      <th>1</th>\n",
       "      <td>Laboratory mid-IR spectra of equilibrated and ...</td>\n",
       "      <td>Meteorites contain minerals from Solar Syste...</td>\n",
       "      <td>135</td>\n",
       "    </tr>\n",
       "    <tr>\n",
       "      <th>2</th>\n",
       "      <td>Case For Static AMSDU Aggregation in WLANs</td>\n",
       "      <td>Frame aggregation is a mechanism by which mu...</td>\n",
       "      <td>126</td>\n",
       "    </tr>\n",
       "    <tr>\n",
       "      <th>4</th>\n",
       "      <td>Witness-Functions versus Interpretation-Functi...</td>\n",
       "      <td>Proving that a cryptographic protocol is cor...</td>\n",
       "      <td>119</td>\n",
       "    </tr>\n",
       "    <tr>\n",
       "      <th>5</th>\n",
       "      <td>Pairwise Difference Estimation of High Dimensi...</td>\n",
       "      <td>This paper proposes a regularized pairwise d...</td>\n",
       "      <td>101</td>\n",
       "    </tr>\n",
       "  </tbody>\n",
       "</table>\n",
       "</div>"
      ],
      "text/plain": [
       "                                               TITLE  \\\n",
       "0  Closed-form Marginal Likelihood in Gamma-Poiss...   \n",
       "1  Laboratory mid-IR spectra of equilibrated and ...   \n",
       "2         Case For Static AMSDU Aggregation in WLANs   \n",
       "4  Witness-Functions versus Interpretation-Functi...   \n",
       "5  Pairwise Difference Estimation of High Dimensi...   \n",
       "\n",
       "                                            ABSTRACT  abs_len  \n",
       "0    We present novel understandings of the Gamma...       96  \n",
       "1    Meteorites contain minerals from Solar Syste...      135  \n",
       "2    Frame aggregation is a mechanism by which mu...      126  \n",
       "4    Proving that a cryptographic protocol is cor...      119  \n",
       "5    This paper proposes a regularized pairwise d...      101  "
      ]
     },
     "execution_count": 13,
     "metadata": {},
     "output_type": "execute_result"
    }
   ],
   "source": [
    "test_df.reset_index()\n",
    "test_df.head()"
   ]
  },
  {
   "cell_type": "code",
   "execution_count": 14,
   "id": "generic-jungle",
   "metadata": {},
   "outputs": [],
   "source": [
    "title_arr = train_df['TITLE']\n",
    "abstract_arr = train_df['ABSTRACT']\n",
    "\n",
    "title_arr = [re.sub(r\"[-()\\\"#/@;:<>{}`+=~|.!?,\\n]\", '', title) for title in title_arr]\n",
    "abstract_arr = [re.sub(r\"[-()\\\"#/@;:<>{}`+=~|.!?,\\n]\", '', abstract) for abstract in abstract_arr]"
   ]
  },
  {
   "cell_type": "markdown",
   "id": "instrumental-industry",
   "metadata": {},
   "source": [
    "Here we declare our ResearchDataset Class which is inherited from Pytorch's DataSet class. An effective way of preparing and loading data. "
   ]
  },
  {
   "cell_type": "code",
   "execution_count": 15,
   "id": "baking-policy",
   "metadata": {},
   "outputs": [],
   "source": [
    "# Descr: Dataset class which is used to load our training data\n",
    "# Constructor Arguements:\n",
    "# =====================================================================\n",
    "# title_arr - Array of article titles\n",
    "# abstract_arr - Array of article abstracts\n",
    "# tokenizer - Input tokenizer used to tokenize our text\n",
    "# =====================================================================\n",
    "\n",
    "class ResearchDataset(Dataset):\n",
    "    def __init__(self, title_arr, abstract_arr, tokenizer):\n",
    "        self.title_arr = title_arr\n",
    "        self.abstract_arr = abstract_arr\n",
    "        self.tokenizer = tokenizer \n",
    "        \n",
    "        def ArrayLength():\n",
    "            title_arr_length = len(self.title_arr)\n",
    "            if(title_arr_length == len(self.abstract_arr)):\n",
    "                return title_arr_length\n",
    "            else:\n",
    "                raise Exception(\"Array Lengths not Equal!!!\")\n",
    "                \n",
    "        self.arr_len = ArrayLength()\n",
    "        \n",
    "    def __len__(self):\n",
    "        return self.arr_len\n",
    "    \n",
    "    def __getitem__(self, index):\n",
    "        title = self.title_arr[index]\n",
    "        abstract = self.abstract_arr[index]\n",
    "        \n",
    "        input_ = abstract + \" </s>\"\n",
    "        output_ = title + \" </s>\"\n",
    "        \n",
    "        #Encoding our inputs\n",
    "        inputs = self.tokenizer.encode_plus(input_, pad_to_max_length=True,return_attention_mask=True, max_length=201)\n",
    "        #Encoding our outputs\n",
    "        outputs = self.tokenizer.encode_plus(output_, pad_to_max_length=True,return_attention_mask=True, max_length=41)\n",
    "        \n",
    "        input_ids = inputs['input_ids']\n",
    "        input_attention_masks = inputs['attention_mask']\n",
    "        \n",
    "        output_ids = outputs['input_ids']\n",
    "        output_attention_masks = outputs['attention_mask']\n",
    "        \n",
    "        return {\n",
    "            'input_ids': torch.tensor(input_ids, dtype=torch.long),\n",
    "            'input_mask': torch.tensor(input_attention_masks, dtype=torch.long),\n",
    "            'output_ids': torch.tensor(output_ids, dtype=torch.long),\n",
    "            'output_mask': torch.tensor(output_attention_masks, dtype=torch.long)\n",
    "        }   "
   ]
  },
  {
   "cell_type": "code",
   "execution_count": 16,
   "id": "increasing-distinction",
   "metadata": {},
   "outputs": [],
   "source": [
    "# Loading pre-trained T5-base Tokenizer of T5-base Model\n",
    "\n",
    "tokenizer = T5Tokenizer.from_pretrained('t5-base')\n",
    "model = T5ForConditionalGeneration.from_pretrained('t5-base')\n",
    "model.to(device);"
   ]
  },
  {
   "cell_type": "code",
   "execution_count": 17,
   "id": "bearing-rochester",
   "metadata": {},
   "outputs": [
    {
     "name": "stdout",
     "output_type": "stream",
     "text": [
      "Total Data Size:  16807\n",
      "Training Data Size:  16807\n",
      "Validation Data Size:  0\n"
     ]
    }
   ],
   "source": [
    "# Performing splitting of our Dataset in train and validation. Because we were already provided a Validation Dataset, we will not be splitting our train set here, hence our trainset_ratio = 1.0\n",
    "\n",
    "research_dataset = ResearchDataset(title_arr, abstract_arr,tokenizer)\n",
    "\n",
    "trainset_ratio = 1.0\n",
    "\n",
    "data_len = len(research_dataset)\n",
    "print(\"Total Data Size: \", data_len)\n",
    "\n",
    "training_data_size = int(data_len*trainset_ratio)\n",
    "print(\"Training Data Size: \", training_data_size)\n",
    "\n",
    "val_data_size = data_len - training_data_size\n",
    "print(\"Validation Data Size: \", val_data_size)\n",
    "\n",
    "train_dataset, validation_dataset = random_split(research_dataset, [training_data_size, val_data_size])\n",
    "\n",
    "batch_size = 16\n",
    "train_dataloader = DataLoader(train_dataset, sampler = RandomSampler(train_dataset), batch_size=batch_size)\n",
    "\n",
    "if(trainset_ratio != 1.0):\n",
    "    validation_dataloader = DataLoader(validation_dataset, sampler = RandomSampler(validation_dataset), batch_size=batch_size)"
   ]
  },
  {
   "cell_type": "code",
   "execution_count": 18,
   "id": "destroyed-toyota",
   "metadata": {},
   "outputs": [
    {
     "name": "stderr",
     "output_type": "stream",
     "text": [
      "Truncation was not explicitly activated but `max_length` is provided a specific value, please use `truncation=True` to explicitly truncate examples to max length. Defaulting to 'longest_first' truncation strategy. If you encode pairs of sequences (GLUE-style) with the tokenizer you can select this strategy more precisely by providing a specific strategy to `truncation`.\n",
      "/home/ubuntu/anaconda3/envs/test/lib/python3.8/site-packages/transformers/tokenization_utils_base.py:2073: FutureWarning: The `pad_to_max_length` argument is deprecated and will be removed in a future version, use `padding=True` or `padding='longest'` to pad to the longest sequence in the batch, or use `padding='max_length'` to pad to a max length. In this case, you can give a specific length with `max_length` (e.g. `max_length=45`) or leave max_length to None to pad to the maximal input size of the model (e.g. 512 for Bert).\n",
      "  warnings.warn(\n",
      "/home/ubuntu/anaconda3/envs/test/lib/python3.8/site-packages/transformers/models/t5/tokenization_t5.py:174: UserWarning: This sequence already has </s>. In future versions this behavior may lead to duplicated eos tokens being added.\n",
      "  warnings.warn(\n"
     ]
    },
    {
     "name": "stdout",
     "output_type": "stream",
     "text": [
      "EPOCH:  0  loss.item:  12.471362113952637\n",
      "EPOCH:  0  loss.item:  1.1752701997756958\n",
      "EPOCH:  0  loss.item:  1.2249319553375244\n"
     ]
    }
   ],
   "source": [
    "# Our actual Process of fine-tuning is done here\n",
    "\n",
    "LEARNING_RATE = 1e-05\n",
    "\n",
    "loss_function = torch.nn.CrossEntropyLoss()\n",
    "optimizer = torch.optim.Adam(params =  model.parameters(), lr=LEARNING_RATE)\n",
    "\n",
    "epochs = 1\n",
    "steps2report = 500\n",
    "\n",
    "def calcuate_accuracy(preds, targets):\n",
    "    n_correct = (preds==targets).sum().item()\n",
    "    return n_correct\n",
    "\n",
    "for epoch in range(0,epochs):\n",
    "    model.train()\n",
    "    for step, data in enumerate(train_dataloader):\n",
    "        optimizer.zero_grad()\n",
    "        \n",
    "        # Getting input parameters\n",
    "        x_input_ids = data['input_ids'].to(device)\n",
    "        x_masks = data['input_mask'].to(device)\n",
    "\n",
    "        # Getting output parameters\n",
    "        y_expl_ids = data['output_ids'].to(device)\n",
    "\n",
    "        # Feeding values into our model\n",
    "        outputs = model(input_ids              = x_input_ids, \n",
    "                        attention_mask         = x_masks,\n",
    "                        labels                 = y_expl_ids)\n",
    "        loss = outputs[0] \n",
    "        \n",
    "        if step%steps2report==0:\n",
    "            print(\"EPOCH: \", epoch, \" loss.item: \", loss.item())\n",
    "        \n",
    "        loss.backward()\n",
    "        optimizer.step() "
   ]
  },
  {
   "cell_type": "markdown",
   "id": "local-rotation",
   "metadata": {},
   "source": [
    "The following column I commented out, but this is the code for saving our fine-tuned model locally."
   ]
  },
  {
   "cell_type": "code",
   "execution_count": 19,
   "id": "pacific-person",
   "metadata": {},
   "outputs": [],
   "source": [
    "#model_repository = \"../trained_models/\"\n",
    "#model_name = \"FineTuned_T5_Title_Abstract\"\n",
    "\n",
    "#model.save_pretrained(model_repository+model_name)"
   ]
  },
  {
   "cell_type": "code",
   "execution_count": 20,
   "id": "baking-fourth",
   "metadata": {},
   "outputs": [],
   "source": [
    "#tokenizer = T5Tokenizer.from_pretrained('t5-base')\n",
    "#model = T5ForConditionalGeneration.from_pretrained(\"../trained_models/FineTuned_T5_Title_Abstract\");\n",
    "#model.to(device);"
   ]
  },
  {
   "cell_type": "markdown",
   "id": "cleared-sudan",
   "metadata": {},
   "source": [
    "### Validation ###\n",
    "\n",
    "Now that the process of fine-tuning is over, we can now get to the process of validation. We start out by pre-processing our test dataframes and creating our Test-ResearchDataSet and Test-DataLoader. After this we then go through our validation loop where we generate a prediction from each input_id and input_mask, we then store that prediction in model_outputArr, and the expected predictions in target_outputArr."
   ]
  },
  {
   "cell_type": "code",
   "execution_count": 29,
   "id": "treated-partnership",
   "metadata": {},
   "outputs": [],
   "source": [
    "title_arr = test_df['TITLE']\n",
    "abstract_arr = test_df['ABSTRACT']\n",
    "\n",
    "title_arr = [re.sub(r\"[-()\\\"#/@;:<>{}`+=~|.!?,\\n]\", '', title) for title in title_arr]\n",
    "abstract_arr = [re.sub(r\"[-()\\\"#/@;:<>{}`+=~|.!?,\\n]\", '', abstract) for abstract in abstract_arr]\n",
    "\n",
    "batch_size = 32\n",
    "testresearch_dataset = ResearchDataset(title_arr, abstract_arr, tokenizer)\n",
    "test_dataloader = DataLoader(testresearch_dataset, sampler = RandomSampler(testresearch_dataset), batch_size=batch_size)"
   ]
  },
  {
   "cell_type": "code",
   "execution_count": 30,
   "id": "mechanical-bibliography",
   "metadata": {},
   "outputs": [],
   "source": [
    "import torch\n",
    "model.eval()\n",
    "\n",
    "model_inputArr = []\n",
    "model_outputArr = []\n",
    "target_outputArr = []\n",
    "\n",
    "with torch.no_grad():\n",
    "    for step, data in enumerate(test_dataloader):\n",
    "        input_ids = data[\"input_ids\"].to(device)\n",
    "        input_masks = data[\"input_mask\"].to(device)\n",
    "        explanation_ids = data[\"output_ids\"].to(device)\n",
    "        explanation_masks = data[\"output_mask\"].to(device)\n",
    "        output = model.generate(input_ids = input_ids, attention_mask = input_masks, max_length=200,do_sample=False )\n",
    "        \n",
    "        for input_vector, output_vector in zip(input_ids, output):\n",
    "            model_inputArr.append(tokenizer.decode(input_vector, skip_special_tokens=True))\n",
    "            model_outputArr.append(tokenizer.decode(output_vector, skip_special_tokens=True))\n",
    "        target_outputArr.append(tokenizer.batch_decode(explanation_ids, skip_special_tokens=True))    \n",
    "        \n",
    "target_outputArr = [item for sublist in target_outputArr for item in sublist]"
   ]
  },
  {
   "cell_type": "code",
   "execution_count": 31,
   "id": "downtown-marks",
   "metadata": {},
   "outputs": [],
   "source": [
    "# Creating a new dataframe that contains our input, model predicted outout, and expected target output\n",
    "\n",
    "data_ = {\n",
    "    'input' : model_inputArr,\n",
    "    'model output' : model_outputArr,\n",
    "    'target output' : target_outputArr\n",
    "}\n",
    "results_dataframe = pd.DataFrame(data = data_)"
   ]
  },
  {
   "cell_type": "code",
   "execution_count": 32,
   "id": "frank-density",
   "metadata": {},
   "outputs": [
    {
     "data": {
      "text/html": [
       "<div>\n",
       "<style scoped>\n",
       "    .dataframe tbody tr th:only-of-type {\n",
       "        vertical-align: middle;\n",
       "    }\n",
       "\n",
       "    .dataframe tbody tr th {\n",
       "        vertical-align: top;\n",
       "    }\n",
       "\n",
       "    .dataframe thead th {\n",
       "        text-align: right;\n",
       "    }\n",
       "</style>\n",
       "<table border=\"1\" class=\"dataframe\">\n",
       "  <thead>\n",
       "    <tr style=\"text-align: right;\">\n",
       "      <th></th>\n",
       "      <th>input</th>\n",
       "      <th>model output</th>\n",
       "      <th>target output</th>\n",
       "    </tr>\n",
       "  </thead>\n",
       "  <tbody>\n",
       "    <tr>\n",
       "      <th>0</th>\n",
       "      <td>We present an active physical implementation o...</td>\n",
       "      <td>Active physical implementation of the plasmon ...</td>\n",
       "      <td>Active plasmon injection scheme for subdiffrac...</td>\n",
       "    </tr>\n",
       "    <tr>\n",
       "      <th>1</th>\n",
       "      <td>A plausible mechanism of selfregulation in tec...</td>\n",
       "      <td>Selfregulation in chain of processing</td>\n",
       "      <td>A Bottleneck Principle for TechnoMetabolic Chains</td>\n",
       "    </tr>\n",
       "    <tr>\n",
       "      <th>2</th>\n",
       "      <td>Training generative adversarial networks is un...</td>\n",
       "      <td>Training generative adversarial networks again...</td>\n",
       "      <td>Stabilizing GAN Training with Multiple Random ...</td>\n",
       "    </tr>\n",
       "    <tr>\n",
       "      <th>3</th>\n",
       "      <td>This paper enlarges classical syllogistic logi...</td>\n",
       "      <td>A logical system with a syllogistic logic</td>\n",
       "      <td>Syllogistic Logic with Cardinality Comparisons...</td>\n",
       "    </tr>\n",
       "    <tr>\n",
       "      <th>4</th>\n",
       "      <td>The excellent electronic and mechanical proper...</td>\n",
       "      <td>Flexible graphene based Hall sensors</td>\n",
       "      <td>Flexible Hall Sensors Based on Graphene</td>\n",
       "    </tr>\n",
       "  </tbody>\n",
       "</table>\n",
       "</div>"
      ],
      "text/plain": [
       "                                               input  \\\n",
       "0  We present an active physical implementation o...   \n",
       "1  A plausible mechanism of selfregulation in tec...   \n",
       "2  Training generative adversarial networks is un...   \n",
       "3  This paper enlarges classical syllogistic logi...   \n",
       "4  The excellent electronic and mechanical proper...   \n",
       "\n",
       "                                        model output  \\\n",
       "0  Active physical implementation of the plasmon ...   \n",
       "1              Selfregulation in chain of processing   \n",
       "2  Training generative adversarial networks again...   \n",
       "3          A logical system with a syllogistic logic   \n",
       "4               Flexible graphene based Hall sensors   \n",
       "\n",
       "                                       target output  \n",
       "0  Active plasmon injection scheme for subdiffrac...  \n",
       "1  A Bottleneck Principle for TechnoMetabolic Chains  \n",
       "2  Stabilizing GAN Training with Multiple Random ...  \n",
       "3  Syllogistic Logic with Cardinality Comparisons...  \n",
       "4            Flexible Hall Sensors Based on Graphene  "
      ]
     },
     "execution_count": 32,
     "metadata": {},
     "output_type": "execute_result"
    }
   ],
   "source": [
    "results_dataframe.head()"
   ]
  },
  {
   "cell_type": "markdown",
   "id": "strong-cooper",
   "metadata": {},
   "source": [
    "### BLEU Evaluation ###\n",
    "\n",
    "Now that we have our predictions, we can evaluate the quality of our predictions based on the Bi-Lingual Evaluation Understudy(BLEU). In brief, we compare our generated sentences with our target sentences by counting the matching n-grams. In layman's terms, how well individual segment texts match from our predicted text to the expected text."
   ]
  },
  {
   "cell_type": "code",
   "execution_count": 34,
   "id": "laden-solid",
   "metadata": {},
   "outputs": [
    {
     "name": "stdout",
     "output_type": "stream",
     "text": [
      "Average Bleu Score:  0.9615653389238294\n"
     ]
    }
   ],
   "source": [
    "bleu_scores = []\n",
    "\n",
    "for model_output, target_output in zip(model_outputArr, target_outputArr):\n",
    "    model_token_arr = model_output.split();\n",
    "    target_token_arr = model_output.split();\n",
    "\n",
    "    score = sentence_bleu([target_token_arr], model_token_arr)\n",
    "\n",
    "    bleu_scores.append(score)\n",
    "    \n",
    "print(\"Average Bleu Score: \", np.mean(bleu_scores))"
   ]
  }
 ],
 "metadata": {
  "kernelspec": {
   "display_name": "Python 3",
   "language": "python",
   "name": "python3"
  },
  "language_info": {
   "codemirror_mode": {
    "name": "ipython",
    "version": 3
   },
   "file_extension": ".py",
   "mimetype": "text/x-python",
   "name": "python",
   "nbconvert_exporter": "python",
   "pygments_lexer": "ipython3",
   "version": "3.7.4"
  }
 },
 "nbformat": 4,
 "nbformat_minor": 5
}
